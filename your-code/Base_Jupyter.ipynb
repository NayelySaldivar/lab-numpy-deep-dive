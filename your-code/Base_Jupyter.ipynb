{
 "cells": [
  {
   "cell_type": "code",
   "execution_count": 2,
   "metadata": {},
   "outputs": [],
   "source": [
    "#1. Import the NUMPY package under the name np.\n",
    "import numpy as np"
   ]
  },
  {
   "cell_type": "code",
   "execution_count": 12,
   "metadata": {},
   "outputs": [
    {
     "name": "stdout",
     "output_type": "stream",
     "text": [
      "1.18.1\n",
      "<module 'numpy.__config__' from 'C:\\\\Users\\\\Nayeli\\\\anaconda3\\\\lib\\\\site-packages\\\\numpy\\\\__config__.py'>\n"
     ]
    }
   ],
   "source": [
    "#2. Print the NUMPY version and the configuration.\n",
    "print (np.__version__)\n",
    "print (np.__config__)"
   ]
  },
  {
   "cell_type": "code",
   "execution_count": 44,
   "metadata": {},
   "outputs": [],
   "source": [
    "#3. Generate a 2x3x5 3-dimensional array with random values. Assign the array to variable \"a\"\n",
    "# Challenge: there are at least three easy ways that use numpy to generate random arrays. How many ways can you find?\n",
    "\n",
    "# a=np.empty((3,2,5))\n",
    "a=np.random.random((2,3,5))"
   ]
  },
  {
   "cell_type": "code",
   "execution_count": 45,
   "metadata": {},
   "outputs": [
    {
     "name": "stdout",
     "output_type": "stream",
     "text": [
      "[[[0.39590713 0.37599052 0.65308717 0.14498636 0.23459044]\n",
      "  [0.09178984 0.7398491  0.26783633 0.61721423 0.54528864]\n",
      "  [0.34453692 0.08250954 0.10831894 0.66507432 0.30379995]]\n",
      "\n",
      " [[0.93290225 0.10871134 0.68100263 0.26141277 0.54754805]\n",
      "  [0.46192154 0.35373665 0.47444724 0.26051074 0.25389156]\n",
      "  [0.06230669 0.87664425 0.47876644 0.75452015 0.31107022]]]\n"
     ]
    }
   ],
   "source": [
    "#4. Print a.\n",
    "\n",
    "print(a)"
   ]
  },
  {
   "cell_type": "code",
   "execution_count": 61,
   "metadata": {},
   "outputs": [],
   "source": [
    "#5. Create a 5x2x3 3-dimensional array with all values equaling 1.\n",
    "#Assign the array to variable \"b\"\n",
    "\n",
    "b=np.ones((5,2,3))"
   ]
  },
  {
   "cell_type": "code",
   "execution_count": 62,
   "metadata": {},
   "outputs": [
    {
     "name": "stdout",
     "output_type": "stream",
     "text": [
      "[[[1. 1. 1.]\n",
      "  [1. 1. 1.]]\n",
      "\n",
      " [[1. 1. 1.]\n",
      "  [1. 1. 1.]]\n",
      "\n",
      " [[1. 1. 1.]\n",
      "  [1. 1. 1.]]\n",
      "\n",
      " [[1. 1. 1.]\n",
      "  [1. 1. 1.]]\n",
      "\n",
      " [[1. 1. 1.]\n",
      "  [1. 1. 1.]]]\n"
     ]
    }
   ],
   "source": [
    "#6. Print b.\n",
    "\n",
    "print(b)"
   ]
  },
  {
   "cell_type": "code",
   "execution_count": 50,
   "metadata": {},
   "outputs": [
    {
     "data": {
      "text/plain": [
       "True"
      ]
     },
     "execution_count": 50,
     "metadata": {},
     "output_type": "execute_result"
    }
   ],
   "source": [
    "#7. Do a and b have the same size? How do you prove that in Python code?\n",
    "a.size==b.size"
   ]
  },
  {
   "cell_type": "code",
   "execution_count": 51,
   "metadata": {},
   "outputs": [
    {
     "ename": "ValueError",
     "evalue": "operands could not be broadcast together with shapes (2,3,5) (5,2,3) ",
     "output_type": "error",
     "traceback": [
      "\u001b[1;31m---------------------------------------------------------------------------\u001b[0m",
      "\u001b[1;31mValueError\u001b[0m                                Traceback (most recent call last)",
      "\u001b[1;32m<ipython-input-51-28a7efd6cb62>\u001b[0m in \u001b[0;36m<module>\u001b[1;34m\u001b[0m\n\u001b[0;32m      1\u001b[0m \u001b[1;31m#8. Are you able to add a and b? Why or why not?\u001b[0m\u001b[1;33m\u001b[0m\u001b[1;33m\u001b[0m\u001b[1;33m\u001b[0m\u001b[0m\n\u001b[1;32m----> 2\u001b[1;33m \u001b[0ma\u001b[0m\u001b[1;33m+\u001b[0m\u001b[0mb\u001b[0m\u001b[1;33m\u001b[0m\u001b[1;33m\u001b[0m\u001b[0m\n\u001b[0m",
      "\u001b[1;31mValueError\u001b[0m: operands could not be broadcast together with shapes (2,3,5) (5,2,3) "
     ]
    }
   ],
   "source": [
    "#8. Are you able to add a and b? Why or why not?\n",
    "\n",
    "# No por que no tienen las mismas dimensiones\n",
    "a+b "
   ]
  },
  {
   "cell_type": "code",
   "execution_count": 71,
   "metadata": {},
   "outputs": [
    {
     "data": {
      "text/plain": [
       "array([[[1., 1., 1., 1., 1.],\n",
       "        [1., 1., 1., 1., 1.],\n",
       "        [1., 1., 1., 1., 1.]],\n",
       "\n",
       "       [[1., 1., 1., 1., 1.],\n",
       "        [1., 1., 1., 1., 1.],\n",
       "        [1., 1., 1., 1., 1.]]])"
      ]
     },
     "execution_count": 71,
     "metadata": {},
     "output_type": "execute_result"
    }
   ],
   "source": [
    "#9. Transpose b so that it has the same structure of a (i.e. become a 2x3x5 array). Assign the transposed array to varialbe \"c\".\n",
    "c=np.transpose(b,(1,2,0))\n",
    "c"
   ]
  },
  {
   "cell_type": "code",
   "execution_count": 72,
   "metadata": {},
   "outputs": [],
   "source": [
    "#10. Try to add a and c. Now it should work. Assign the sum to varialbe \"d\". But why does it work now?\n",
    "# Se pueden sumar porque comparten la estructura nxmxo y la operación se realiza elemento por elemento\n",
    "d=a+c"
   ]
  },
  {
   "cell_type": "code",
   "execution_count": 74,
   "metadata": {},
   "outputs": [
    {
     "name": "stdout",
     "output_type": "stream",
     "text": [
      "[[[0.39590713 0.37599052 0.65308717 0.14498636 0.23459044]\n",
      "  [0.09178984 0.7398491  0.26783633 0.61721423 0.54528864]\n",
      "  [0.34453692 0.08250954 0.10831894 0.66507432 0.30379995]]\n",
      "\n",
      " [[0.93290225 0.10871134 0.68100263 0.26141277 0.54754805]\n",
      "  [0.46192154 0.35373665 0.47444724 0.26051074 0.25389156]\n",
      "  [0.06230669 0.87664425 0.47876644 0.75452015 0.31107022]]]\n",
      "[[[1.39590713 1.37599052 1.65308717 1.14498636 1.23459044]\n",
      "  [1.09178984 1.7398491  1.26783633 1.61721423 1.54528864]\n",
      "  [1.34453692 1.08250954 1.10831894 1.66507432 1.30379995]]\n",
      "\n",
      " [[1.93290225 1.10871134 1.68100263 1.26141277 1.54754805]\n",
      "  [1.46192154 1.35373665 1.47444724 1.26051074 1.25389156]\n",
      "  [1.06230669 1.87664425 1.47876644 1.75452015 1.31107022]]]\n"
     ]
    }
   ],
   "source": [
    "#11. Print a and d. Notice the difference and relation of the two array in terms of the values? Explain.\n",
    "# A todos los elementos de a se les añadió la unidad que estaba en d\n",
    "print(a)\n",
    "print(d)"
   ]
  },
  {
   "cell_type": "code",
   "execution_count": 76,
   "metadata": {},
   "outputs": [],
   "source": [
    "#12. Multiply a and c. Assign the result to e.\n",
    "e=np.multiply(a,c)"
   ]
  },
  {
   "cell_type": "code",
   "execution_count": 78,
   "metadata": {},
   "outputs": [
    {
     "data": {
      "text/plain": [
       "array([[[ True,  True,  True,  True,  True],\n",
       "        [ True,  True,  True,  True,  True],\n",
       "        [ True,  True,  True,  True,  True]],\n",
       "\n",
       "       [[ True,  True,  True,  True,  True],\n",
       "        [ True,  True,  True,  True,  True],\n",
       "        [ True,  True,  True,  True,  True]]])"
      ]
     },
     "execution_count": 78,
     "metadata": {},
     "output_type": "execute_result"
    }
   ],
   "source": [
    "#13. Does e equal to a? Why or why not? Yes\n",
    "# La multiplicación también se realiza elemento por elemento :o\n",
    "e==a"
   ]
  },
  {
   "cell_type": "code",
   "execution_count": 81,
   "metadata": {},
   "outputs": [
    {
     "name": "stdout",
     "output_type": "stream",
     "text": [
      "Max 1.9329022451048887\n",
      "Min 1.0623066867267892\n",
      "Mean 1.413005731108975\n"
     ]
    }
   ],
   "source": [
    "#14. Identify the max, min, and mean values in d. Assign those values to variables \"d_max\", \"d_min\", and \"d_mean\"\n",
    "d_max=d.max()\n",
    "d_min=d.min()\n",
    "d_mean=d.mean()\n",
    "\n",
    "print(\"Max\",d_max)\n",
    "print(\"Min\",d_min)\n",
    "print(\"Mean\",d_mean)"
   ]
  },
  {
   "cell_type": "code",
   "execution_count": 84,
   "metadata": {},
   "outputs": [
    {
     "data": {
      "text/plain": [
       "array([[[0.39590713, 0.37599052, 0.65308717, 0.14498636, 0.23459044],\n",
       "        [0.09178984, 0.7398491 , 0.26783633, 0.61721423, 0.54528864],\n",
       "        [0.34453692, 0.08250954, 0.10831894, 0.66507432, 0.30379995]],\n",
       "\n",
       "       [[0.93290225, 0.10871134, 0.68100263, 0.26141277, 0.54754805],\n",
       "        [0.46192154, 0.35373665, 0.47444724, 0.26051074, 0.25389156],\n",
       "        [0.06230669, 0.87664425, 0.47876644, 0.75452015, 0.31107022]]])"
      ]
     },
     "execution_count": 84,
     "metadata": {},
     "output_type": "execute_result"
    }
   ],
   "source": [
    "#15. Now we want to label the values in d. First create an empty array \"f\" with the same shape (i.e. 2x3x5) \n",
    "# as d using `np.empty`.\n",
    "f=np.empty((2,3,5))\n",
    "f"
   ]
  },
  {
   "cell_type": "code",
   "execution_count": 113,
   "metadata": {},
   "outputs": [
    {
     "data": {
      "text/plain": [
       "array([[[ 25,  25,  75,  25,  25],\n",
       "        [ 25,  75,  25,  75,  75],\n",
       "        [ 25,  25,  25,  75,  25]],\n",
       "\n",
       "       [[100,  25,  75,  25,  75],\n",
       "        [ 75,  25,  75,  25,  25],\n",
       "        [  0,  75,  75,  75,  25]]])"
      ]
     },
     "execution_count": 113,
     "metadata": {},
     "output_type": "execute_result"
    }
   ],
   "source": [
    "\"\"\" 16. Populate the values in f. \n",
    "For each value in d, if it's larger than d_min but smaller than d_mean,assign 25 to the corresponding value in f.\n",
    "If a value in d is larger than d_mean but smaller than d_max, assign 75 to the corresponding value in f.\n",
    "If a value equals to d_mean, assign 50 to the corresponding value in f.\n",
    "Assign 0 to the corresponding value(s) in f for d_min in d.\n",
    "Assign 100 to the corresponding value(s) in f for d_max in d.\n",
    "In the end, f should have only the following values: 0, 25, 50, 75, and 100.\n",
    "Note: you don't have to use Numpy in this question \"\"\"\n",
    "f=np.where(d==d_max,100,np.where(d == d_min,0,np.where((d<d_mean)&(d>d_min),25,np.where((d<d_max)&(d>d_mean),75,100))))\n",
    "# No me salió sin Numpy ;(\n",
    "# for i in d:\n",
    "#     for j in i:\n",
    "#         for k in j:\n",
    "#             if k==d_min:\n",
    "# #                 f[i][j][k]=0\n",
    "#             elif k==d_max:\n",
    "# #                 f[i][j][k]=100\n",
    "#             elif k==d_mean:\n",
    "# #                 f[i][j][k]=50\n",
    "#             elif (k>d_min and k<d_mean):\n",
    "# #                 f[i][j][k]=25\n",
    "#             elif (k>d_mean and k<d_max):\n",
    "# #                 f[i][j][k]=75\n",
    "#             else:\n",
    "# #                 f[i][j][k]=\":(\" ''\n",
    "f"
   ]
  },
  {
   "cell_type": "code",
   "execution_count": 102,
   "metadata": {},
   "outputs": [
    {
     "name": "stdout",
     "output_type": "stream",
     "text": [
      "[[[1.39590713 1.37599052 1.65308717 1.14498636 1.23459044]\n",
      "  [1.09178984 1.7398491  1.26783633 1.61721423 1.54528864]\n",
      "  [1.34453692 1.08250954 1.10831894 1.66507432 1.30379995]]\n",
      "\n",
      " [[1.93290225 1.10871134 1.68100263 1.26141277 1.54754805]\n",
      "  [1.46192154 1.35373665 1.47444724 1.26051074 1.25389156]\n",
      "  [1.06230669 1.87664425 1.47876644 1.75452015 1.31107022]]]\n",
      "[[[ 25  25  75  25  25]\n",
      "  [ 25  75  25  75  75]\n",
      "  [ 25  25  25  75  25]]\n",
      "\n",
      " [[100  25  75  25  75]\n",
      "  [ 75  25  75  25  25]\n",
      "  [  0  75  75  75  25]]]\n"
     ]
    }
   ],
   "source": [
    "\"\"\" 17. Print d and f. Do you have your expected f?\n",
    "For instance, if your d is:\n",
    "array([[[1.85836099, 1.67064465, 1.62576044, 1.40243961, 1.88454931],\n",
    "        [1.75354326, 1.69403643, 1.36729252, 1.61415071, 1.12104981],\n",
    "        [1.72201435, 1.1862918 , 1.87078449, 1.7726778 , 1.88180042]],\n",
    "\n",
    "       [[1.44747908, 1.31673383, 1.02000951, 1.52218947, 1.97066381],\n",
    "        [1.79129243, 1.74983003, 1.96028037, 1.85166831, 1.65450881],\n",
    "        [1.18068344, 1.9587381 , 1.00656599, 1.93402165, 1.73514584]]])\n",
    "\n",
    "Your f should be:\n",
    "array([[[ 75.,  75.,  75.,  25.,  75.],\n",
    "        [ 75.,  75.,  25.,  25.,  25.],\n",
    "        [ 75.,  25.,  75.,  75.,  75.]],\n",
    "\n",
    "       [[ 25.,  25.,  25.,  25., 100.],\n",
    "        [ 75.,  75.,  75.,  75.,  75.],\n",
    "        [ 25.,  75.,   0.,  75.,  75.]]])\n",
    "\"\"\"\n",
    "# Parece que sí, solo que ningún valor es igual a la media (creo que estaba dificil atinarle)\n",
    "print(d)\n",
    "print(f)"
   ]
  },
  {
   "cell_type": "code",
   "execution_count": 118,
   "metadata": {},
   "outputs": [
    {
     "name": "stdout",
     "output_type": "stream",
     "text": [
      "[[[1.39590713 1.37599052 1.65308717 1.14498636 1.23459044]\n",
      "  [1.09178984 1.7398491  1.26783633 1.61721423 1.54528864]\n",
      "  [1.34453692 1.08250954 1.10831894 1.66507432 1.30379995]]\n",
      "\n",
      " [[1.93290225 1.10871134 1.68100263 1.26141277 1.54754805]\n",
      "  [1.46192154 1.35373665 1.47444724 1.26051074 1.25389156]\n",
      "  [1.06230669 1.87664425 1.47876644 1.75452015 1.31107022]]]\n",
      "[[['B' 'B' 'D' 'B' 'B']\n",
      "  ['B' 'D' 'B' 'D' 'D']\n",
      "  ['B' 'B' 'B' 'D' 'B']]\n",
      "\n",
      " [['E' 'B' 'D' 'B' 'D']\n",
      "  ['D' 'B' 'D' 'B' 'B']\n",
      "  ['A' 'D' 'D' 'D' 'B']]]\n"
     ]
    }
   ],
   "source": [
    "\"\"\"\n",
    "#18. Bonus question: instead of using numbers (i.e. 0, 25, 50, 75, and 100), how to use string values \n",
    "(\"A\", \"B\", \"C\", \"D\", and \"E\") to label the array elements? You are expecting the result to be:\n",
    "array([[[ 'D',  'D',  'D',  'B',  'D'],\n",
    "        [ 'D',  'D',  'B',  'B',  'B'],\n",
    "        [ 'D',  'B',  'D',  'D',  'D']],\n",
    "\n",
    "       [[ 'B',  'B',  'B',  'B',  'E'],\n",
    "        [ 'D',  'D',  'D',  'D',  'D'],\n",
    "        [ 'B',  'D',   'A',  'D', 'D']]])\n",
    "Again, you don't need Numpy in this question.\n",
    "\"\"\"\n",
    "f=np.where(d==d_max,\"E\",np.where(d == d_min,\"A\",np.where((d<d_mean)&(d>d_min),\"B\",np.where((d<d_max)&(d>d_mean),\"D\",100))))\n",
    "print(d)\n",
    "print(f)"
   ]
  }
 ],
 "metadata": {
  "kernelspec": {
   "display_name": "Python 3",
   "language": "python",
   "name": "python3"
  },
  "language_info": {
   "codemirror_mode": {
    "name": "ipython",
    "version": 3
   },
   "file_extension": ".py",
   "mimetype": "text/x-python",
   "name": "python",
   "nbconvert_exporter": "python",
   "pygments_lexer": "ipython3",
   "version": "3.7.6"
  }
 },
 "nbformat": 4,
 "nbformat_minor": 4
}
